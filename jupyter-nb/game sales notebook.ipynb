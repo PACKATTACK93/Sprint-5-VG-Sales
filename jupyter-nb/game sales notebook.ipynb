{
 "cells": [
  {
   "cell_type": "markdown",
   "metadata": {
    "id": "9LMszr5T0Oft"
   },
   "source": [
    "# Video Game Sales Analysis Project\n",
    "## Project Overview\n",
    "\n",
    "In this project, you'll analyze video game sales data to identify patterns that determine a game's success. Working as an analyst for the online store Ice, you'll use this information to help plan future advertising campaigns.\n",
    "\n",
    "## Environment Setup and Required Libraries"
   ]
  },
  {
   "cell_type": "code",
   "execution_count": 4,
   "metadata": {
    "id": "uoUK3_uG0O1A"
   },
   "outputs": [],
   "source": [
    "# Import all required libraries\n",
    "import pandas as pd\n",
    "import numpy as np \n",
    "import matplotlib as plt\n",
    "import seaborn as sns\n",
    "import matplotlib.pyplot as plt\n",
    "import math\n"
   ]
  },
  {
   "cell_type": "code",
   "execution_count": 5,
   "metadata": {},
   "outputs": [],
   "source": [
    "#load the dataset\n",
    "data_games = pd.read_csv('video games.csv')"
   ]
  },
  {
   "cell_type": "markdown",
   "metadata": {
    "id": "elxRwYBn0STd"
   },
   "source": [
    "## Step 1: Loading and Initial Data Exploration\n",
    "\n",
    "First, let's load our dataset and examine its basic properties:"
   ]
  },
  {
   "cell_type": "code",
   "execution_count": 6,
   "metadata": {
    "id": "sTug7Lxo0VnO"
   },
   "outputs": [
    {
     "name": "stdout",
     "output_type": "stream",
     "text": [
      "<class 'pandas.core.frame.DataFrame'>\n",
      "RangeIndex: 16715 entries, 0 to 16714\n",
      "Data columns (total 11 columns):\n",
      " #   Column           Non-Null Count  Dtype  \n",
      "---  ------           --------------  -----  \n",
      " 0   Name             16713 non-null  object \n",
      " 1   Platform         16715 non-null  object \n",
      " 2   Year_of_Release  16446 non-null  float64\n",
      " 3   Genre            16713 non-null  object \n",
      " 4   NA_sales         16715 non-null  float64\n",
      " 5   EU_sales         16715 non-null  float64\n",
      " 6   JP_sales         16715 non-null  float64\n",
      " 7   Other_sales      16715 non-null  float64\n",
      " 8   Critic_Score     8137 non-null   float64\n",
      " 9   User_Score       10014 non-null  object \n",
      " 10  Rating           9949 non-null   object \n",
      "dtypes: float64(6), object(5)\n",
      "memory usage: 1.4+ MB\n"
     ]
    },
    {
     "data": {
      "application/vnd.microsoft.datawrangler.viewer.v0+json": {
       "columns": [
        {
         "name": "index",
         "rawType": "int64",
         "type": "integer"
        },
        {
         "name": "Name",
         "rawType": "object",
         "type": "string"
        },
        {
         "name": "Platform",
         "rawType": "object",
         "type": "string"
        },
        {
         "name": "Year_of_Release",
         "rawType": "float64",
         "type": "float"
        },
        {
         "name": "Genre",
         "rawType": "object",
         "type": "string"
        },
        {
         "name": "NA_sales",
         "rawType": "float64",
         "type": "float"
        },
        {
         "name": "EU_sales",
         "rawType": "float64",
         "type": "float"
        },
        {
         "name": "JP_sales",
         "rawType": "float64",
         "type": "float"
        },
        {
         "name": "Other_sales",
         "rawType": "float64",
         "type": "float"
        },
        {
         "name": "Critic_Score",
         "rawType": "float64",
         "type": "float"
        },
        {
         "name": "User_Score",
         "rawType": "object",
         "type": "unknown"
        },
        {
         "name": "Rating",
         "rawType": "object",
         "type": "unknown"
        }
       ],
       "ref": "56cbbb09-8000-460d-ac24-c762767f2f04",
       "rows": [
        [
         "16710",
         "Samurai Warriors: Sanada Maru",
         "PS3",
         "2016.0",
         "Action",
         "0.0",
         "0.0",
         "0.01",
         "0.0",
         null,
         null,
         null
        ],
        [
         "16711",
         "LMA Manager 2007",
         "X360",
         "2006.0",
         "Sports",
         "0.0",
         "0.01",
         "0.0",
         "0.0",
         null,
         null,
         null
        ],
        [
         "16712",
         "Haitaka no Psychedelica",
         "PSV",
         "2016.0",
         "Adventure",
         "0.0",
         "0.0",
         "0.01",
         "0.0",
         null,
         null,
         null
        ],
        [
         "16713",
         "Spirits & Spells",
         "GBA",
         "2003.0",
         "Platform",
         "0.01",
         "0.0",
         "0.0",
         "0.0",
         null,
         null,
         null
        ],
        [
         "16714",
         "Winning Post 8 2016",
         "PSV",
         "2016.0",
         "Simulation",
         "0.0",
         "0.0",
         "0.01",
         "0.0",
         null,
         null,
         null
        ]
       ],
       "shape": {
        "columns": 11,
        "rows": 5
       }
      },
      "text/html": [
       "<div>\n",
       "<style scoped>\n",
       "    .dataframe tbody tr th:only-of-type {\n",
       "        vertical-align: middle;\n",
       "    }\n",
       "\n",
       "    .dataframe tbody tr th {\n",
       "        vertical-align: top;\n",
       "    }\n",
       "\n",
       "    .dataframe thead th {\n",
       "        text-align: right;\n",
       "    }\n",
       "</style>\n",
       "<table border=\"1\" class=\"dataframe\">\n",
       "  <thead>\n",
       "    <tr style=\"text-align: right;\">\n",
       "      <th></th>\n",
       "      <th>Name</th>\n",
       "      <th>Platform</th>\n",
       "      <th>Year_of_Release</th>\n",
       "      <th>Genre</th>\n",
       "      <th>NA_sales</th>\n",
       "      <th>EU_sales</th>\n",
       "      <th>JP_sales</th>\n",
       "      <th>Other_sales</th>\n",
       "      <th>Critic_Score</th>\n",
       "      <th>User_Score</th>\n",
       "      <th>Rating</th>\n",
       "    </tr>\n",
       "  </thead>\n",
       "  <tbody>\n",
       "    <tr>\n",
       "      <th>16710</th>\n",
       "      <td>Samurai Warriors: Sanada Maru</td>\n",
       "      <td>PS3</td>\n",
       "      <td>2016.0</td>\n",
       "      <td>Action</td>\n",
       "      <td>0.00</td>\n",
       "      <td>0.00</td>\n",
       "      <td>0.01</td>\n",
       "      <td>0.0</td>\n",
       "      <td>NaN</td>\n",
       "      <td>NaN</td>\n",
       "      <td>NaN</td>\n",
       "    </tr>\n",
       "    <tr>\n",
       "      <th>16711</th>\n",
       "      <td>LMA Manager 2007</td>\n",
       "      <td>X360</td>\n",
       "      <td>2006.0</td>\n",
       "      <td>Sports</td>\n",
       "      <td>0.00</td>\n",
       "      <td>0.01</td>\n",
       "      <td>0.00</td>\n",
       "      <td>0.0</td>\n",
       "      <td>NaN</td>\n",
       "      <td>NaN</td>\n",
       "      <td>NaN</td>\n",
       "    </tr>\n",
       "    <tr>\n",
       "      <th>16712</th>\n",
       "      <td>Haitaka no Psychedelica</td>\n",
       "      <td>PSV</td>\n",
       "      <td>2016.0</td>\n",
       "      <td>Adventure</td>\n",
       "      <td>0.00</td>\n",
       "      <td>0.00</td>\n",
       "      <td>0.01</td>\n",
       "      <td>0.0</td>\n",
       "      <td>NaN</td>\n",
       "      <td>NaN</td>\n",
       "      <td>NaN</td>\n",
       "    </tr>\n",
       "    <tr>\n",
       "      <th>16713</th>\n",
       "      <td>Spirits &amp; Spells</td>\n",
       "      <td>GBA</td>\n",
       "      <td>2003.0</td>\n",
       "      <td>Platform</td>\n",
       "      <td>0.01</td>\n",
       "      <td>0.00</td>\n",
       "      <td>0.00</td>\n",
       "      <td>0.0</td>\n",
       "      <td>NaN</td>\n",
       "      <td>NaN</td>\n",
       "      <td>NaN</td>\n",
       "    </tr>\n",
       "    <tr>\n",
       "      <th>16714</th>\n",
       "      <td>Winning Post 8 2016</td>\n",
       "      <td>PSV</td>\n",
       "      <td>2016.0</td>\n",
       "      <td>Simulation</td>\n",
       "      <td>0.00</td>\n",
       "      <td>0.00</td>\n",
       "      <td>0.01</td>\n",
       "      <td>0.0</td>\n",
       "      <td>NaN</td>\n",
       "      <td>NaN</td>\n",
       "      <td>NaN</td>\n",
       "    </tr>\n",
       "  </tbody>\n",
       "</table>\n",
       "</div>"
      ],
      "text/plain": [
       "                                Name Platform  Year_of_Release       Genre  \\\n",
       "16710  Samurai Warriors: Sanada Maru      PS3           2016.0      Action   \n",
       "16711               LMA Manager 2007     X360           2006.0      Sports   \n",
       "16712        Haitaka no Psychedelica      PSV           2016.0   Adventure   \n",
       "16713               Spirits & Spells      GBA           2003.0    Platform   \n",
       "16714            Winning Post 8 2016      PSV           2016.0  Simulation   \n",
       "\n",
       "       NA_sales  EU_sales  JP_sales  Other_sales  Critic_Score User_Score  \\\n",
       "16710      0.00      0.00      0.01          0.0           NaN        NaN   \n",
       "16711      0.00      0.01      0.00          0.0           NaN        NaN   \n",
       "16712      0.00      0.00      0.01          0.0           NaN        NaN   \n",
       "16713      0.01      0.00      0.00          0.0           NaN        NaN   \n",
       "16714      0.00      0.00      0.01          0.0           NaN        NaN   \n",
       "\n",
       "      Rating  \n",
       "16710    NaN  \n",
       "16711    NaN  \n",
       "16712    NaN  \n",
       "16713    NaN  \n",
       "16714    NaN  "
      ]
     },
     "execution_count": 6,
     "metadata": {},
     "output_type": "execute_result"
    }
   ],
   "source": [
    "# Display basic information about the data\n",
    "data_games.info()\n",
    "data_games.head\n",
    "data_games.tail()"
   ]
  },
  {
   "cell_type": "markdown",
   "metadata": {},
   "source": [
    "List of the categories in the games database as follows: Platform, Year of release, Genre, NA_sales, EU sales, JP_sales, OtherNA, critic scores, Users, Rating."
   ]
  },
  {
   "cell_type": "markdown",
   "metadata": {},
   "source": []
  },
  {
   "cell_type": "code",
   "execution_count": 7,
   "metadata": {
    "id": "H54YzTNs0aAV"
   },
   "outputs": [
    {
     "data": {
      "text/plain": [
       "0"
      ]
     },
     "execution_count": 7,
     "metadata": {},
     "output_type": "execute_result"
    }
   ],
   "source": [
    "# Check for duplicate entries\n",
    "data_games.duplicated().sum()"
   ]
  },
  {
   "cell_type": "markdown",
   "metadata": {},
   "source": [
    " Further analysis shows there were no duplicates found in the database. There \n",
    " were several columns that had missing values and some values had values \n",
    " of \"tbd\" or essentially null\" or \"NA\"."
   ]
  },
  {
   "cell_type": "markdown",
   "metadata": {
    "id": "7Dy9svZV0lAt"
   },
   "source": [
    "### Key Questions to Answer:\n",
    "- What's the total number of records in our dataset?\n",
    "- What data types are present in each column?\n",
    "- Are there any obvious issues with the data?\n",
    "- Do we see any immediate patterns or anomalies?"
   ]
  },
  {
   "cell_type": "markdown",
   "metadata": {
    "id": "sJtUdFp30oet"
   },
   "source": [
    "## Step 2: Data Preparation\n",
    "\n",
    "### 2.1 Standardizing Column Names"
   ]
  },
  {
   "cell_type": "code",
   "execution_count": 8,
   "metadata": {
    "id": "0UbeqYMh0lW2"
   },
   "outputs": [],
   "source": [
    "# Convert column names to lowercase\n",
    "data_games.columns = data_games.columns.str.lower()"
   ]
  },
  {
   "cell_type": "code",
   "execution_count": 9,
   "metadata": {
    "id": "zNR2bWIf0qTp"
   },
   "outputs": [
    {
     "data": {
      "text/plain": [
       "Index(['name', 'platform', 'year_of_release', 'genre', 'na_sales', 'eu_sales',\n",
       "       'jp_sales', 'other_sales', 'critic_score', 'user_score', 'rating'],\n",
       "      dtype='object')"
      ]
     },
     "execution_count": 9,
     "metadata": {},
     "output_type": "execute_result"
    }
   ],
   "source": [
    "# Verify the changes\n",
    "data_games.columns"
   ]
  },
  {
   "cell_type": "markdown",
   "metadata": {
    "id": "hyWGqpK_0sb2"
   },
   "source": [
    "### 2.2 Data Type Conversion"
   ]
  },
  {
   "cell_type": "code",
   "execution_count": 10,
   "metadata": {
    "id": "bum4x2eG0uJe"
   },
   "outputs": [
    {
     "data": {
      "text/plain": [
       "Index(['name', 'platform', 'year_of_release', 'genre', 'na_sales', 'eu_sales',\n",
       "       'jp_sales', 'other_sales', 'critic_score', 'user_score', 'rating'],\n",
       "      dtype='object')"
      ]
     },
     "execution_count": 10,
     "metadata": {},
     "output_type": "execute_result"
    }
   ],
   "source": [
    "# Check current data types\n",
    "data_games.dtypes\n",
    "# Select columns with specific data types\n",
    "data_games.select_dtypes(include=['object', 'int64', 'float64', \n",
    "'bool','datetime','category', 'number', 'string']).columns\n"
   ]
  },
  {
   "cell_type": "code",
   "execution_count": 11,
   "metadata": {
    "id": "j6wGqKZB0uh9"
   },
   "outputs": [
    {
     "data": {
      "application/vnd.microsoft.datawrangler.viewer.v0+json": {
       "columns": [
        {
         "name": "index",
         "rawType": "object",
         "type": "string"
        },
        {
         "name": "name",
         "rawType": "object",
         "type": "unknown"
        },
        {
         "name": "platform",
         "rawType": "object",
         "type": "unknown"
        },
        {
         "name": "year_of_release",
         "rawType": "float64",
         "type": "float"
        },
        {
         "name": "genre",
         "rawType": "object",
         "type": "unknown"
        },
        {
         "name": "na_sales",
         "rawType": "float64",
         "type": "float"
        },
        {
         "name": "eu_sales",
         "rawType": "float64",
         "type": "float"
        },
        {
         "name": "jp_sales",
         "rawType": "float64",
         "type": "float"
        },
        {
         "name": "other_sales",
         "rawType": "float64",
         "type": "float"
        },
        {
         "name": "critic_score",
         "rawType": "float64",
         "type": "float"
        },
        {
         "name": "user_score",
         "rawType": "object",
         "type": "unknown"
        },
        {
         "name": "rating",
         "rawType": "object",
         "type": "unknown"
        }
       ],
       "ref": "80583a29-73e0-44ac-a22e-159294bfe47f",
       "rows": [
        [
         "count",
         "16713",
         "16715",
         "16446.0",
         "16713",
         "16715.0",
         "16715.0",
         "16715.0",
         "16715.0",
         "8137.0",
         "10014",
         "9949"
        ],
        [
         "unique",
         "11559",
         "31",
         null,
         "12",
         null,
         null,
         null,
         null,
         null,
         "96",
         "8"
        ],
        [
         "top",
         "Need for Speed: Most Wanted",
         "PS2",
         null,
         "Action",
         null,
         null,
         null,
         null,
         null,
         "tbd",
         "E"
        ],
        [
         "freq",
         "12",
         "2161",
         null,
         "3369",
         null,
         null,
         null,
         null,
         null,
         "2424",
         "3990"
        ],
        [
         "mean",
         null,
         null,
         "2006.4846163200777",
         null,
         "0.26337720610230336",
         "0.1450595273706252",
         "0.07761711037989828",
         "0.047341908465450194",
         "68.96767850559173",
         null,
         null
        ],
        [
         "std",
         null,
         null,
         "5.877049828017123",
         null,
         "0.8136035222633384",
         "0.5033385142348317",
         "0.3088534256325729",
         "0.18673104072945518",
         "13.938164552843201",
         null,
         null
        ],
        [
         "min",
         null,
         null,
         "1980.0",
         null,
         "0.0",
         "0.0",
         "0.0",
         "0.0",
         "13.0",
         null,
         null
        ],
        [
         "25%",
         null,
         null,
         "2003.0",
         null,
         "0.0",
         "0.0",
         "0.0",
         "0.0",
         "60.0",
         null,
         null
        ],
        [
         "50%",
         null,
         null,
         "2007.0",
         null,
         "0.08",
         "0.02",
         "0.0",
         "0.01",
         "71.0",
         null,
         null
        ],
        [
         "75%",
         null,
         null,
         "2010.0",
         null,
         "0.24",
         "0.11",
         "0.04",
         "0.03",
         "79.0",
         null,
         null
        ],
        [
         "max",
         null,
         null,
         "2016.0",
         null,
         "41.36",
         "28.96",
         "10.22",
         "10.57",
         "98.0",
         null,
         null
        ]
       ],
       "shape": {
        "columns": 11,
        "rows": 11
       }
      },
      "text/html": [
       "<div>\n",
       "<style scoped>\n",
       "    .dataframe tbody tr th:only-of-type {\n",
       "        vertical-align: middle;\n",
       "    }\n",
       "\n",
       "    .dataframe tbody tr th {\n",
       "        vertical-align: top;\n",
       "    }\n",
       "\n",
       "    .dataframe thead th {\n",
       "        text-align: right;\n",
       "    }\n",
       "</style>\n",
       "<table border=\"1\" class=\"dataframe\">\n",
       "  <thead>\n",
       "    <tr style=\"text-align: right;\">\n",
       "      <th></th>\n",
       "      <th>name</th>\n",
       "      <th>platform</th>\n",
       "      <th>year_of_release</th>\n",
       "      <th>genre</th>\n",
       "      <th>na_sales</th>\n",
       "      <th>eu_sales</th>\n",
       "      <th>jp_sales</th>\n",
       "      <th>other_sales</th>\n",
       "      <th>critic_score</th>\n",
       "      <th>user_score</th>\n",
       "      <th>rating</th>\n",
       "    </tr>\n",
       "  </thead>\n",
       "  <tbody>\n",
       "    <tr>\n",
       "      <th>count</th>\n",
       "      <td>16713</td>\n",
       "      <td>16715</td>\n",
       "      <td>16446.000000</td>\n",
       "      <td>16713</td>\n",
       "      <td>16715.000000</td>\n",
       "      <td>16715.000000</td>\n",
       "      <td>16715.000000</td>\n",
       "      <td>16715.000000</td>\n",
       "      <td>8137.000000</td>\n",
       "      <td>10014</td>\n",
       "      <td>9949</td>\n",
       "    </tr>\n",
       "    <tr>\n",
       "      <th>unique</th>\n",
       "      <td>11559</td>\n",
       "      <td>31</td>\n",
       "      <td>NaN</td>\n",
       "      <td>12</td>\n",
       "      <td>NaN</td>\n",
       "      <td>NaN</td>\n",
       "      <td>NaN</td>\n",
       "      <td>NaN</td>\n",
       "      <td>NaN</td>\n",
       "      <td>96</td>\n",
       "      <td>8</td>\n",
       "    </tr>\n",
       "    <tr>\n",
       "      <th>top</th>\n",
       "      <td>Need for Speed: Most Wanted</td>\n",
       "      <td>PS2</td>\n",
       "      <td>NaN</td>\n",
       "      <td>Action</td>\n",
       "      <td>NaN</td>\n",
       "      <td>NaN</td>\n",
       "      <td>NaN</td>\n",
       "      <td>NaN</td>\n",
       "      <td>NaN</td>\n",
       "      <td>tbd</td>\n",
       "      <td>E</td>\n",
       "    </tr>\n",
       "    <tr>\n",
       "      <th>freq</th>\n",
       "      <td>12</td>\n",
       "      <td>2161</td>\n",
       "      <td>NaN</td>\n",
       "      <td>3369</td>\n",
       "      <td>NaN</td>\n",
       "      <td>NaN</td>\n",
       "      <td>NaN</td>\n",
       "      <td>NaN</td>\n",
       "      <td>NaN</td>\n",
       "      <td>2424</td>\n",
       "      <td>3990</td>\n",
       "    </tr>\n",
       "    <tr>\n",
       "      <th>mean</th>\n",
       "      <td>NaN</td>\n",
       "      <td>NaN</td>\n",
       "      <td>2006.484616</td>\n",
       "      <td>NaN</td>\n",
       "      <td>0.263377</td>\n",
       "      <td>0.145060</td>\n",
       "      <td>0.077617</td>\n",
       "      <td>0.047342</td>\n",
       "      <td>68.967679</td>\n",
       "      <td>NaN</td>\n",
       "      <td>NaN</td>\n",
       "    </tr>\n",
       "    <tr>\n",
       "      <th>std</th>\n",
       "      <td>NaN</td>\n",
       "      <td>NaN</td>\n",
       "      <td>5.877050</td>\n",
       "      <td>NaN</td>\n",
       "      <td>0.813604</td>\n",
       "      <td>0.503339</td>\n",
       "      <td>0.308853</td>\n",
       "      <td>0.186731</td>\n",
       "      <td>13.938165</td>\n",
       "      <td>NaN</td>\n",
       "      <td>NaN</td>\n",
       "    </tr>\n",
       "    <tr>\n",
       "      <th>min</th>\n",
       "      <td>NaN</td>\n",
       "      <td>NaN</td>\n",
       "      <td>1980.000000</td>\n",
       "      <td>NaN</td>\n",
       "      <td>0.000000</td>\n",
       "      <td>0.000000</td>\n",
       "      <td>0.000000</td>\n",
       "      <td>0.000000</td>\n",
       "      <td>13.000000</td>\n",
       "      <td>NaN</td>\n",
       "      <td>NaN</td>\n",
       "    </tr>\n",
       "    <tr>\n",
       "      <th>25%</th>\n",
       "      <td>NaN</td>\n",
       "      <td>NaN</td>\n",
       "      <td>2003.000000</td>\n",
       "      <td>NaN</td>\n",
       "      <td>0.000000</td>\n",
       "      <td>0.000000</td>\n",
       "      <td>0.000000</td>\n",
       "      <td>0.000000</td>\n",
       "      <td>60.000000</td>\n",
       "      <td>NaN</td>\n",
       "      <td>NaN</td>\n",
       "    </tr>\n",
       "    <tr>\n",
       "      <th>50%</th>\n",
       "      <td>NaN</td>\n",
       "      <td>NaN</td>\n",
       "      <td>2007.000000</td>\n",
       "      <td>NaN</td>\n",
       "      <td>0.080000</td>\n",
       "      <td>0.020000</td>\n",
       "      <td>0.000000</td>\n",
       "      <td>0.010000</td>\n",
       "      <td>71.000000</td>\n",
       "      <td>NaN</td>\n",
       "      <td>NaN</td>\n",
       "    </tr>\n",
       "    <tr>\n",
       "      <th>75%</th>\n",
       "      <td>NaN</td>\n",
       "      <td>NaN</td>\n",
       "      <td>2010.000000</td>\n",
       "      <td>NaN</td>\n",
       "      <td>0.240000</td>\n",
       "      <td>0.110000</td>\n",
       "      <td>0.040000</td>\n",
       "      <td>0.030000</td>\n",
       "      <td>79.000000</td>\n",
       "      <td>NaN</td>\n",
       "      <td>NaN</td>\n",
       "    </tr>\n",
       "    <tr>\n",
       "      <th>max</th>\n",
       "      <td>NaN</td>\n",
       "      <td>NaN</td>\n",
       "      <td>2016.000000</td>\n",
       "      <td>NaN</td>\n",
       "      <td>41.360000</td>\n",
       "      <td>28.960000</td>\n",
       "      <td>10.220000</td>\n",
       "      <td>10.570000</td>\n",
       "      <td>98.000000</td>\n",
       "      <td>NaN</td>\n",
       "      <td>NaN</td>\n",
       "    </tr>\n",
       "  </tbody>\n",
       "</table>\n",
       "</div>"
      ],
      "text/plain": [
       "                               name platform  year_of_release   genre  \\\n",
       "count                         16713    16715     16446.000000   16713   \n",
       "unique                        11559       31              NaN      12   \n",
       "top     Need for Speed: Most Wanted      PS2              NaN  Action   \n",
       "freq                             12     2161              NaN    3369   \n",
       "mean                            NaN      NaN      2006.484616     NaN   \n",
       "std                             NaN      NaN         5.877050     NaN   \n",
       "min                             NaN      NaN      1980.000000     NaN   \n",
       "25%                             NaN      NaN      2003.000000     NaN   \n",
       "50%                             NaN      NaN      2007.000000     NaN   \n",
       "75%                             NaN      NaN      2010.000000     NaN   \n",
       "max                             NaN      NaN      2016.000000     NaN   \n",
       "\n",
       "            na_sales      eu_sales      jp_sales   other_sales  critic_score  \\\n",
       "count   16715.000000  16715.000000  16715.000000  16715.000000   8137.000000   \n",
       "unique           NaN           NaN           NaN           NaN           NaN   \n",
       "top              NaN           NaN           NaN           NaN           NaN   \n",
       "freq             NaN           NaN           NaN           NaN           NaN   \n",
       "mean        0.263377      0.145060      0.077617      0.047342     68.967679   \n",
       "std         0.813604      0.503339      0.308853      0.186731     13.938165   \n",
       "min         0.000000      0.000000      0.000000      0.000000     13.000000   \n",
       "25%         0.000000      0.000000      0.000000      0.000000     60.000000   \n",
       "50%         0.080000      0.020000      0.000000      0.010000     71.000000   \n",
       "75%         0.240000      0.110000      0.040000      0.030000     79.000000   \n",
       "max        41.360000     28.960000     10.220000     10.570000     98.000000   \n",
       "\n",
       "       user_score rating  \n",
       "count       10014   9949  \n",
       "unique         96      8  \n",
       "top           tbd      E  \n",
       "freq         2424   3990  \n",
       "mean          NaN    NaN  \n",
       "std           NaN    NaN  \n",
       "min           NaN    NaN  \n",
       "25%           NaN    NaN  \n",
       "50%           NaN    NaN  \n",
       "75%           NaN    NaN  \n",
       "max           NaN    NaN  "
      ]
     },
     "execution_count": 11,
     "metadata": {},
     "output_type": "execute_result"
    }
   ],
   "source": [
    "# Make changes to data types if necessary\n",
    "# Describe the columns where the data types have been changed and why.\n",
    "data_games.describe()\n",
    "data_games.describe(include='all')"
   ]
  },
  {
   "cell_type": "code",
   "execution_count": 12,
   "metadata": {
    "id": "u_2YXNQR1UKG"
   },
   "outputs": [
    {
     "data": {
      "application/vnd.microsoft.datawrangler.viewer.v0+json": {
       "columns": [
        {
         "name": "index",
         "rawType": "object",
         "type": "string"
        },
        {
         "name": "0",
         "rawType": "int64",
         "type": "integer"
        }
       ],
       "ref": "3246dbe5-7243-42cb-a463-c403aeb59804",
       "rows": [
        [
         "name",
         "2"
        ],
        [
         "platform",
         "0"
        ],
        [
         "year_of_release",
         "269"
        ],
        [
         "genre",
         "2"
        ],
        [
         "na_sales",
         "0"
        ],
        [
         "eu_sales",
         "0"
        ],
        [
         "jp_sales",
         "0"
        ],
        [
         "other_sales",
         "0"
        ],
        [
         "critic_score",
         "8578"
        ],
        [
         "user_score",
         "6701"
        ],
        [
         "rating",
         "6766"
        ]
       ],
       "shape": {
        "columns": 1,
        "rows": 11
       }
      },
      "text/plain": [
       "name                  2\n",
       "platform              0\n",
       "year_of_release     269\n",
       "genre                 2\n",
       "na_sales              0\n",
       "eu_sales              0\n",
       "jp_sales              0\n",
       "other_sales           0\n",
       "critic_score       8578\n",
       "user_score         6701\n",
       "rating             6766\n",
       "dtype: int64"
      ]
     },
     "execution_count": 12,
     "metadata": {},
     "output_type": "execute_result"
    }
   ],
   "source": [
    "# Pay attention to the abbreviation TBD (to be determined). Specify how you intend to handle such cases.\n",
    "# TBD values are often used when data is not available.\n",
    "# We can replace TBD with NaN to handle them as missing values.\n",
    "data_games.replace('TBD', np.nan, inplace=True)\n",
    "data_games.isnull().sum()\n",
    "data_games.isna().sum()"
   ]
  },
  {
   "cell_type": "markdown",
   "metadata": {
    "id": "Op-5jvJA04du"
   },
   "source": [
    "### 2.3 Handling Missing Values"
   ]
  },
  {
   "cell_type": "code",
   "execution_count": 13,
   "metadata": {
    "id": "kgQM57IU03yn"
   },
   "outputs": [
    {
     "name": "stderr",
     "output_type": "stream",
     "text": [
      "C:\\Users\\bsully\\AppData\\Local\\Temp\\ipykernel_36208\\3215051354.py:3: UserWarning: Pandas doesn't allow columns to be created via a new attribute name - see https://pandas.pydata.org/pandas-docs/stable/indexing.html#attribute-access\n",
      "  data_games.missing_percentage = data_games.isnull().mean() * 100\n"
     ]
    },
    {
     "data": {
      "application/vnd.microsoft.datawrangler.viewer.v0+json": {
       "columns": [
        {
         "name": "index",
         "rawType": "object",
         "type": "string"
        },
        {
         "name": "0",
         "rawType": "int64",
         "type": "integer"
        }
       ],
       "ref": "9a8fb461-fd32-4271-a16d-1154a7243f05",
       "rows": [
        [
         "name",
         "0"
        ],
        [
         "platform",
         "0"
        ],
        [
         "year_of_release",
         "0"
        ],
        [
         "genre",
         "0"
        ],
        [
         "na_sales",
         "0"
        ],
        [
         "eu_sales",
         "0"
        ],
        [
         "jp_sales",
         "0"
        ],
        [
         "other_sales",
         "0"
        ],
        [
         "user_score",
         "0"
        ],
        [
         "rating",
         "0"
        ]
       ],
       "shape": {
        "columns": 1,
        "rows": 10
       }
      },
      "text/plain": [
       "name               0\n",
       "platform           0\n",
       "year_of_release    0\n",
       "genre              0\n",
       "na_sales           0\n",
       "eu_sales           0\n",
       "jp_sales           0\n",
       "other_sales        0\n",
       "user_score         0\n",
       "rating             0\n",
       "dtype: int64"
      ]
     },
     "execution_count": 13,
     "metadata": {},
     "output_type": "execute_result"
    }
   ],
   "source": [
    "# Examine missing values\n",
    "# Calculate the percentage of missing values in each column\n",
    "data_games.missing_percentage = data_games.isnull().mean() * 100\n",
    "# Display the percentage of missing values in each column\n",
    "missing_percentage = data_games.isnull().mean() * 100\n",
    "# Drop columns with a high percentage of missing values\n",
    "columns_to_drop = missing_percentage[missing_percentage > 50].index\n",
    "data_games.drop(columns=columns_to_drop, inplace=True)\n",
    "# Verify that the columns have been dropped\n",
    "data_games.isnull().sum().sort_values(ascending=False)\n",
    "# Fill missing values in the 'rating' column with the mode\n",
    "data_games['rating'].fillna(data_games['rating'].mode()[0], inplace=True)\n",
    "# Fill missing values in the 'platform' column with the mode\n",
    "data_games['platform'].fillna(data_games['platform'].mode()[0], inplace=True)\n",
    "# Fill missing values in the 'genre' column with the mode\n",
    "data_games['genre'].fillna(data_games['genre'].mode()[0], inplace=True)\n",
    "# Fill missing values in the 'year of release' column with the mode\n",
    "data_games['year_of_release'].fillna(data_games['year_of_release'].mode()[0], inplace=True)\n",
    "# Fill missing values in the 'name' column with the mode\n",
    "data_games['name'].fillna(data_games['name'].mode()[0], inplace=True)\n",
    "# fill missing values in the 'user score' column with the mean\n",
    "data_games['user_score'].fillna(data_games.mode()['user_score'][0], inplace=True)\n",
    "# Fill missing values in the 'critic score' column with the mean\n",
    "# Verify that the missing values have been filled\n",
    "data_games.isna().sum()\n",
    "data_games.isnull().sum()\n"
   ]
  },
  {
   "cell_type": "markdown",
   "metadata": {},
   "source": [
    "Verified that there were no missing values in any of the following columns in the dataset\n",
    "Used the fillna and fillnull methods in each category to make sure any missing values were filled."
   ]
  },
  {
   "cell_type": "code",
   "execution_count": 14,
   "metadata": {
    "id": "IbjVBu5H06kW"
   },
   "outputs": [],
   "source": [
    "# Calculate percentage of missing values\n",
    "missing_percentage = [data_games.isnull().mean() * 100]\n",
    "# Display the percentage of missing values"
   ]
  },
  {
   "cell_type": "code",
   "execution_count": 15,
   "metadata": {
    "id": "7JKmuhxF07a3"
   },
   "outputs": [],
   "source": [
    "# Analyze patterns in missing values"
   ]
  },
  {
   "cell_type": "code",
   "execution_count": 16,
   "metadata": {
    "id": "NWeZ6Pj008iW"
   },
   "outputs": [],
   "source": [
    "# Handle missing values based on analysis\n",
    "# Your code here to handle missing values according to your strategy\n"
   ]
  },
  {
   "cell_type": "code",
   "execution_count": 17,
   "metadata": {
    "id": "jVIFovLz091G"
   },
   "outputs": [],
   "source": [
    "# Why do you think the values are missing? Give possible reasons.\n",
    "# Explain why you filled in the missing values as you did or why you decided to leave them blank."
   ]
  },
  {
   "cell_type": "markdown",
   "metadata": {
    "id": "NgRdPJYJ1ZKG"
   },
   "source": [
    "### 2.4 Calculate Total Sales"
   ]
  },
  {
   "cell_type": "code",
   "execution_count": 18,
   "metadata": {
    "id": "rc_LWvmr1Zj3"
   },
   "outputs": [],
   "source": [
    "# Calculate total sales across all regions and put them in a different column"
   ]
  },
  {
   "cell_type": "markdown",
   "metadata": {
    "id": "Jt9oL4lS1ePu"
   },
   "source": [
    "# Step 3: Analyzing Video Game Sales Data\n",
    "\n",
    "## 3.1 Temporal Analysis of Game Releases\n",
    "Let's first examine the distribution of game releases across different years to understand our data's coverage and significance:"
   ]
  },
  {
   "cell_type": "code",
   "execution_count": 19,
   "metadata": {
    "id": "DaxQrjBNGUuy"
   },
   "outputs": [],
   "source": [
    "# Create a DataFrame with game releases by year"
   ]
  },
  {
   "cell_type": "code",
   "execution_count": 20,
   "metadata": {
    "id": "sZjP-hb61fIf"
   },
   "outputs": [],
   "source": [
    "# Visualize the distribution of games across years"
   ]
  },
  {
   "cell_type": "code",
   "execution_count": 21,
   "metadata": {
    "id": "6hJ4jyLq1gIN"
   },
   "outputs": [],
   "source": [
    "# Display summary statistics for each year"
   ]
  },
  {
   "cell_type": "markdown",
   "metadata": {
    "id": "v4EHTXiUGeh6"
   },
   "source": [
    "### Questions to Consider:\n",
    "- Which years show significant numbers of game releases?\n",
    "- Are there any notable trends or patterns in the number of releases?\n",
    "- Is there enough recent data to make predictions for 2017?"
   ]
  },
  {
   "cell_type": "markdown",
   "metadata": {
    "id": "-rQehsGk11-W"
   },
   "source": [
    "## 3.2 Platform Sales Analysis Over Time\n",
    "\n",
    "Now let's analyze how sales vary across platforms and years:"
   ]
  },
  {
   "cell_type": "code",
   "execution_count": 22,
   "metadata": {
    "id": "6czXW9Ww13AX"
   },
   "outputs": [],
   "source": [
    "# Calculate total sales by platform and year"
   ]
  },
  {
   "cell_type": "code",
   "execution_count": 23,
   "metadata": {
    "id": "Dz_1_sNEGlDS"
   },
   "outputs": [],
   "source": [
    "# Create a heatmap of platform sales over time"
   ]
  },
  {
   "cell_type": "code",
   "execution_count": 24,
   "metadata": {
    "id": "DPIZovwbGmLy"
   },
   "outputs": [],
   "source": [
    "# Identify platforms with declining sales"
   ]
  },
  {
   "cell_type": "markdown",
   "metadata": {
    "id": "Jik7JecCGoNa"
   },
   "source": [
    "### Questions to Consider:\n",
    "- Which platforms show consistent sales over time?\n",
    "- Can you identify platforms that have disappeared from the market?\n",
    "- What's the typical lifecycle of a gaming platform?"
   ]
  },
  {
   "cell_type": "markdown",
   "metadata": {
    "id": "Yk_tUP5y17Wv"
   },
   "source": [
    "## 3.3 Determining Relevant Time Period\n",
    "\n",
    "Based on your analysis above, determine the appropriate time period for predicting 2017 sales:"
   ]
  },
  {
   "cell_type": "code",
   "execution_count": 25,
   "metadata": {
    "id": "hVfuRMjyFU3i"
   },
   "outputs": [],
   "source": [
    "# Your code here to filter the dataset to relevant years\n",
    "# Example:\n",
    "# relevant_years = [XXXX, XXXX, XXXX] # Replace with your chosen years\n",
    "# df_relevant = df[df['year_of_release'].isin(relevant_years)]\n",
    "\n",
    "# Justify your choice with data"
   ]
  },
  {
   "cell_type": "markdown",
   "metadata": {
    "id": "8g_CURLWGzYy"
   },
   "source": [
    "### Document Your Decision:\n",
    "- What years did you select and why?\n",
    "- How does this period reflect current market conditions?\n",
    "- What factors influenced your decision?"
   ]
  },
  {
   "cell_type": "markdown",
   "metadata": {
    "id": "tNgNPQdYFqka"
   },
   "source": [
    "## 3.4 Platform Performance Analysis\n",
    "\n",
    "Using your selected time period, let's analyze platform performance:"
   ]
  },
  {
   "cell_type": "code",
   "execution_count": 26,
   "metadata": {
    "id": "1bPiDIJ3FsAC"
   },
   "outputs": [],
   "source": [
    "# Analyze platform sales trends"
   ]
  },
  {
   "cell_type": "code",
   "execution_count": 27,
   "metadata": {
    "id": "49INtJV4Fv-i"
   },
   "outputs": [],
   "source": [
    "# Sort platforms by total sales"
   ]
  },
  {
   "cell_type": "code",
   "execution_count": 28,
   "metadata": {
    "id": "nB8xsmAuG38a"
   },
   "outputs": [],
   "source": [
    "# Visualize top platforms\n",
    "# Calculate year-over-year growth for each platform\n",
    "# Your code here to calculate and visualize platform growth rates"
   ]
  },
  {
   "cell_type": "markdown",
   "metadata": {
    "id": "gss9CaRLG8F6"
   },
   "source": [
    "## 3.5 Sales Distribution Analysis\n",
    "\n",
    "Let's examine the distribution of sales across platforms:"
   ]
  },
  {
   "cell_type": "code",
   "execution_count": 29,
   "metadata": {
    "id": "Tt86KnSmG9Ia"
   },
   "outputs": [],
   "source": [
    "# Create box plot of sales by platform"
   ]
  },
  {
   "cell_type": "code",
   "execution_count": 30,
   "metadata": {
    "id": "V34QXjQbG-Ti"
   },
   "outputs": [],
   "source": [
    "# Calculate detailed statistics for each platform"
   ]
  },
  {
   "cell_type": "markdown",
   "metadata": {
    "id": "kpr3vFcpG_1q"
   },
   "source": [
    "## 3.6 Review Score Impact Analysis\n",
    "\n",
    "Select a popular platform and analyze how reviews affect sales:"
   ]
  },
  {
   "cell_type": "code",
   "execution_count": 31,
   "metadata": {
    "id": "ly_DyKUGHBAi"
   },
   "outputs": [],
   "source": [
    "# Choose a popular platform based on your previous analysis"
   ]
  },
  {
   "cell_type": "code",
   "execution_count": 32,
   "metadata": {
    "id": "HAqsDecvHCJ1"
   },
   "outputs": [],
   "source": [
    "# Create scatter plots for both critic and user scores"
   ]
  },
  {
   "cell_type": "code",
   "execution_count": 33,
   "metadata": {
    "id": "V5SxzosMHHCL"
   },
   "outputs": [],
   "source": [
    "# Critic Scores\n",
    "\n",
    "\n",
    "\n",
    "# User Scores\n",
    "\n",
    "\n",
    "# Calculate correlations\n"
   ]
  },
  {
   "cell_type": "markdown",
   "metadata": {
    "id": "hhLvhB8-HKk6"
   },
   "source": [
    "## 3.7 Cross-Platform Comparison\n",
    "\n",
    "Compare sales performance of games across different platforms:"
   ]
  },
  {
   "cell_type": "code",
   "execution_count": 34,
   "metadata": {
    "id": "nVdLwEw3HLwK"
   },
   "outputs": [],
   "source": [
    "# Find games released on multiple platforms"
   ]
  },
  {
   "cell_type": "code",
   "execution_count": 35,
   "metadata": {
    "id": "ME1egJbSHM-i"
   },
   "outputs": [],
   "source": [
    "# Compare sales across platforms for these games\n",
    "# Your code here to analyze and visualize cross-platform performance"
   ]
  },
  {
   "cell_type": "markdown",
   "metadata": {
    "id": "7pIIgylYHOTa"
   },
   "source": [
    "## 3.8 Genre Analysis\n",
    "\n",
    "Finally, let's examine the distribution of games by genre:"
   ]
  },
  {
   "cell_type": "code",
   "execution_count": 36,
   "metadata": {
    "id": "EMqroBuLHPZN"
   },
   "outputs": [],
   "source": [
    "# Analyze genre performance"
   ]
  },
  {
   "cell_type": "code",
   "execution_count": 37,
   "metadata": {
    "id": "1lOBrjpDHQbq"
   },
   "outputs": [],
   "source": [
    "# Sort genres by total sales"
   ]
  },
  {
   "cell_type": "code",
   "execution_count": 38,
   "metadata": {
    "id": "im6TIeOoHRbz"
   },
   "outputs": [],
   "source": [
    "# Visualize genre distribution"
   ]
  },
  {
   "cell_type": "code",
   "execution_count": 39,
   "metadata": {
    "id": "B_f_MP3THSX7"
   },
   "outputs": [],
   "source": [
    "# Calculate market share for each genre"
   ]
  },
  {
   "cell_type": "markdown",
   "metadata": {
    "id": "1tSmB_lEHTrj"
   },
   "source": [
    "### Key Questions for Genre Analysis:\n",
    "- Which genres consistently perform well?\n",
    "- Are there any genres showing recent growth or decline?\n",
    "- How does the average performance vary across genres?"
   ]
  },
  {
   "cell_type": "markdown",
   "metadata": {
    "id": "ktkaib-aHbPy"
   },
   "source": [
    "# Step 4: Regional Market Analysis and User Profiles\n",
    "\n",
    "In this section, we will analyze the gaming market characteristics across three major regions: North America (NA), Europe (EU), and Japan (JP). Our analysis will focus on platform preferences, genre popularity, and the impact of ESRB ratings in each region.\n",
    "\n",
    "## 4.1 Regional Platform Analysis\n",
    "\n",
    "Let's begin by examining platform performance across different regions:"
   ]
  },
  {
   "cell_type": "code",
   "execution_count": 40,
   "metadata": {
    "id": "MTA3QH6OHxMR"
   },
   "outputs": [],
   "source": [
    "# Function to analyze platform performance by region"
   ]
  },
  {
   "cell_type": "code",
   "execution_count": 41,
   "metadata": {
    "id": "4kfm3Cd6HzAs"
   },
   "outputs": [],
   "source": [
    "# Analyze each region"
   ]
  },
  {
   "cell_type": "markdown",
   "metadata": {
    "id": "EA8GXFT8H1Lz"
   },
   "source": [
    "### Cross-Regional Platform Comparison\n",
    "\n",
    "Let's create a comparative analysis of platform performance across regions:"
   ]
  },
  {
   "cell_type": "code",
   "execution_count": 42,
   "metadata": {
    "id": "1pA08dxLH4ED"
   },
   "outputs": [],
   "source": [
    "# Create a comparative platform analysis"
   ]
  },
  {
   "cell_type": "code",
   "execution_count": 43,
   "metadata": {
    "id": "8tz6_xe8H5Hj"
   },
   "outputs": [],
   "source": [
    "# Visualize cross-regional comparison for top platforms"
   ]
  },
  {
   "cell_type": "markdown",
   "metadata": {
    "id": "7LUOIUpAH6ac"
   },
   "source": [
    "## 4.2 Regional Genre Analysis\n",
    "\n",
    "Now let's examine genre preferences across regions:"
   ]
  },
  {
   "cell_type": "code",
   "execution_count": 44,
   "metadata": {
    "id": "cTQ9P-eLH7rD"
   },
   "outputs": [],
   "source": [
    "# Function to analyze genre performance by region"
   ]
  },
  {
   "cell_type": "markdown",
   "metadata": {
    "id": "5HxLhvdWH-QD"
   },
   "source": [
    "### Cross-Regional Genre Comparison\n",
    "\n",
    "Let's compare genre preferences across regions:"
   ]
  },
  {
   "cell_type": "code",
   "execution_count": 45,
   "metadata": {
    "id": "GnkNJ3E2H_3j"
   },
   "outputs": [],
   "source": [
    "# Create a comparative genre analysis"
   ]
  },
  {
   "cell_type": "markdown",
   "metadata": {
    "id": "yj44c5ZWIBkr"
   },
   "source": [
    "## 4.3 ESRB Rating Impact Analysis\n",
    "\n",
    "Finally, let's examine how ESRB ratings affect sales in each region:"
   ]
  },
  {
   "cell_type": "code",
   "execution_count": 46,
   "metadata": {
    "id": "BQEvewWVICkr"
   },
   "outputs": [],
   "source": [
    "# Function to analyze ESRB rating impact"
   ]
  },
  {
   "cell_type": "code",
   "execution_count": 47,
   "metadata": {
    "id": "JwjXinv5IDp7"
   },
   "outputs": [],
   "source": [
    "# Analyze ESRB impact for each region"
   ]
  },
  {
   "cell_type": "markdown",
   "metadata": {
    "id": "HR1z031jIYZ7"
   },
   "source": [
    "# Step 5 : Hypothesis Tests\n",
    "\n",
    "—Average user ratings of the Xbox One and PC platforms are the same.\n",
    "\n",
    "—Average user ratings for the Action and Sports genres are different.\n",
    "\n",
    "Set the *alpha* threshold value yourself.\n",
    "\n",
    "Explain:\n",
    "\n",
    "—How you formulated the null and alternative hypotheses\n",
    "\n",
    "—What criteria you used to test the hypotheses~~,~~ and why\n"
   ]
  },
  {
   "cell_type": "code",
   "execution_count": null,
   "metadata": {
    "id": "-KfbHSwWIdn6"
   },
   "outputs": [],
   "source": []
  },
  {
   "cell_type": "markdown",
   "metadata": {
    "id": "424VTr4lIfzr"
   },
   "source": [
    "# Step 6. Write a general conclusion\n"
   ]
  },
  {
   "cell_type": "markdown",
   "metadata": {
    "id": "Rl-6ZMpnImpz"
   },
   "source": []
  }
 ],
 "metadata": {
  "colab": {
   "provenance": []
  },
  "kernelspec": {
   "display_name": "base",
   "language": "python",
   "name": "python3"
  },
  "language_info": {
   "codemirror_mode": {
    "name": "ipython",
    "version": 3
   },
   "file_extension": ".py",
   "mimetype": "text/x-python",
   "name": "python",
   "nbconvert_exporter": "python",
   "pygments_lexer": "ipython3",
   "version": "3.11.9"
  }
 },
 "nbformat": 4,
 "nbformat_minor": 4
}
